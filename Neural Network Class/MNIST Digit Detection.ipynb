{
 "cells": [
  {
   "cell_type": "code",
   "execution_count": 1,
   "metadata": {},
   "outputs": [],
   "source": [
    "import tensorflow as tf\n",
    "import numpy as np\n",
    "import matplotlib.pyplot as plt\n",
    "from nn_utils import *\n",
    "\n",
    "import logging\n",
    "tf.get_logger().setLevel(logging.ERROR)\n",
    "tf.enable_eager_execution()\n",
    "\n",
    "%matplotlib inline"
   ]
  },
  {
   "cell_type": "code",
   "execution_count": 2,
   "metadata": {},
   "outputs": [],
   "source": [
    "class NeuralNetwork:\n",
    "    \n",
    "    def __init__(self, layers):\n",
    "        \n",
    "        self.layers = layers\n",
    "        self.num_layers = len(layers)\n",
    "        self.num_features = layers[0]\n",
    "        self.num_classes = layers[-1]\n",
    "        \n",
    "        self.W = {}\n",
    "        self.b = {}\n",
    "        \n",
    "        self.dW = {}\n",
    "        self.db = {}\n",
    "        \n",
    "        self.initialize()\n",
    "        \n",
    "        \n",
    "    def initialize(self):\n",
    "        \n",
    "        for i in range(1, self.num_layers):\n",
    "            self.W[i] = tf.Variable(tf.random.normal(shape = (self.layers[i], self.layers[i - 1])))\n",
    "            self.b[i] = tf.Variable(tf.random.normal(shape = (self.layers[i], 1)))\n",
    "            \n",
    "            \n",
    "    def forward_pass(self, X):\n",
    "        \n",
    "        A = tf.convert_to_tensor(X, dtype = tf.float32)\n",
    "        \n",
    "        for i in range(1, self.num_layers):\n",
    "            Z = tf.matmul(A, tf.transpose(self.W[i])) + tf.transpose(self.b[i])\n",
    "            if i != self.num_layers - 1:\n",
    "                A = tf.nn.relu(Z)\n",
    "            else:\n",
    "                A = Z\n",
    "            \n",
    "        return A\n",
    "    \n",
    "    \n",
    "    def compute_loss(self, A, Y):\n",
    "        \n",
    "        loss = tf.nn.softmax_cross_entropy_with_logits(logits = A, labels = Y)\n",
    "        \n",
    "        return tf.reduce_mean(loss)\n",
    "    \n",
    "    \n",
    "    def update_params(self, lr):\n",
    "        \n",
    "        for i in range(1, self.num_layers):\n",
    "            self.W[i].assign_sub(lr * self.dW[i])\n",
    "            self.b[i].assign_sub(lr * self.db[i])\n",
    "            \n",
    "            \n",
    "    def predict(self, X):\n",
    "        \n",
    "        A = self.forward_pass(X)\n",
    "        \n",
    "        return tf.argmax(tf.nn.softmax(A), axis = 1)\n",
    "    \n",
    "    \n",
    "    def info(self):\n",
    "        \n",
    "        num_params = 0\n",
    "        \n",
    "        for i in range(1, self.num_layers):\n",
    "            num_params += self.W[i].shape[0] * self.W[i].shape[1]\n",
    "            num_params += self.b[i].shape[0]\n",
    "        \n",
    "        print('Input features:', self.num_features)\n",
    "        print('Number of Classes:', self.num_classes)\n",
    "        print('Hidden Layers:')\n",
    "        \n",
    "        for i in range(1, self.num_layers - 1):\n",
    "            print('Layer {}, Units {}'.format(i, self.layers[i]))\n",
    "        \n",
    "        print('---------------')\n",
    "        print('Number of parameters:', num_params)\n",
    "        \n",
    "        \n",
    "    def train_on_batch(self, X, Y, lr):\n",
    "        \n",
    "        X = tf.convert_to_tensor(X, dtype = tf.float32)\n",
    "        Y = tf.convert_to_tensor(Y, dtype = tf.float32)\n",
    "        \n",
    "        with tf.GradientTape(persistent = True) as tape:\n",
    "            A = self.forward_pass(X)\n",
    "            loss = self.compute_loss(A, Y)\n",
    "            \n",
    "        for i in range(1, self.num_layers):\n",
    "            self.dW[i] = tape.gradient(loss, self.W[i])\n",
    "            self.db[i] = tape.gradient(loss, self.b[i])\n",
    "            \n",
    "        del tape\n",
    "        \n",
    "        self.update_params(lr)\n",
    "        \n",
    "        return loss.numpy()\n",
    "    \n",
    "    \n",
    "    def train(self, X_train, Y_train, X_test, Y_test, epochs, steps_per_epoch, batch_size, lr):\n",
    "        \n",
    "        history = {\n",
    "            'train_loss': [],\n",
    "            'val_loss': [],\n",
    "            'val_acc': []\n",
    "        }\n",
    "        \n",
    "        for e in range(0, epochs):\n",
    "            epoch_train_loss = 0.\n",
    "            print('Epoch {}'.format(e + 1), end = '.')\n",
    "            \n",
    "            for i in range(0, steps_per_epoch):\n",
    "                X_batch = X_train[i * batch_size: (i + 1) * batch_size]\n",
    "                Y_batch = Y_train[i * batch_size: (i + 1) * batch_size]\n",
    "                \n",
    "                batch_loss = self.train_on_batch(X_batch, Y_batch, lr)\n",
    "                epoch_train_loss += batch_loss\n",
    "                \n",
    "                if i % int(steps_per_epoch / 10) == 0:\n",
    "                    print(end = '.')\n",
    "                    \n",
    "            history['train_loss'].append(epoch_train_loss / steps_per_epoch)\n",
    "            \n",
    "            val_A = self.forward_pass(X_test)\n",
    "            val_loss = self.compute_loss(val_A, Y_test).numpy()\n",
    "            history['val_loss'].append(val_loss)\n",
    "            \n",
    "            val_preds = self.predict(X_test)\n",
    "            val_acc = np.mean(np.argmax(Y_test, axis = 1) == val_preds.numpy())\n",
    "            history['val_acc'].append(val_acc)\n",
    "            \n",
    "            print('Val Acc:', val_acc)\n",
    "        \n",
    "        return history"
   ]
  },
  {
   "cell_type": "code",
   "execution_count": 3,
   "metadata": {},
   "outputs": [
    {
     "data": {
      "image/png": "[encoded data removed]",
      "text/plain": [
       "<Figure size 720x360 with 10 Axes>"
      ]
     },
     "metadata": {},
     "output_type": "display_data"
    }
   ],
   "source": [
    "(X_train, Y_train), (X_test, Y_test) = load_data()\n",
    "plot_random_examples(X_train, Y_train).show()"
   ]
  },
  {
   "cell_type": "code",
   "execution_count": 4,
   "metadata": {},
   "outputs": [
    {
     "name": "stdout",
     "output_type": "stream",
     "text": [
      "Input features: 784\n",
      "Number of Classes: 10\n",
      "Hidden Layers:\n",
      "Layer 1, Units 128\n",
      "Layer 2, Units 128\n",
      "---------------\n",
      "Number of parameters: 118282\n"
     ]
    }
   ],
   "source": [
    "model = NeuralNetwork([784, 128, 128, 10])\n",
    "model.info()"
   ]
  },
  {
   "cell_type": "code",
   "execution_count": 5,
   "metadata": {},
   "outputs": [
    {
     "name": "stdout",
     "output_type": "stream",
     "text": [
      "Steps per epoch: 500\n"
     ]
    }
   ],
   "source": [
    "batch_size = 120\n",
    "epochs = 20\n",
    "steps_per_epoch = int(X_train.shape[0] / batch_size)\n",
    "lr = 3e-3\n",
    "print('Steps per epoch:', steps_per_epoch)"
   ]
  },
  {
   "cell_type": "code",
   "execution_count": 6,
   "metadata": {},
   "outputs": [
    {
     "name": "stdout",
     "output_type": "stream",
     "text": [
      "Epoch 1...........Val Acc: 0.8219\n",
      "Epoch 2...........Val Acc: 0.8524\n",
      "Epoch 3...........Val Acc: 0.8686\n",
      "Epoch 4...........Val Acc: 0.8767\n",
      "Epoch 5...........Val Acc: 0.881\n",
      "Epoch 6...........Val Acc: 0.886\n",
      "Epoch 7...........Val Acc: 0.8875\n",
      "Epoch 8...........Val Acc: 0.8906\n",
      "Epoch 9...........Val Acc: 0.8916\n",
      "Epoch 10...........Val Acc: 0.8937\n",
      "Epoch 11...........Val Acc: 0.8952\n",
      "Epoch 12...........Val Acc: 0.8958\n",
      "Epoch 13...........Val Acc: 0.8982\n",
      "Epoch 14...........Val Acc: 0.899\n",
      "Epoch 15...........Val Acc: 0.9005\n",
      "Epoch 16...........Val Acc: 0.9013\n",
      "Epoch 17...........Val Acc: 0.9024\n",
      "Epoch 18...........Val Acc: 0.9038\n",
      "Epoch 19...........Val Acc: 0.9052\n",
      "Epoch 20...........Val Acc: 0.9052\n"
     ]
    }
   ],
   "source": [
    "history = model.train(\n",
    "    X_train, Y_train, \n",
    "    X_test, Y_test, \n",
    "    epochs, steps_per_epoch,\n",
    "    batch_size, lr\n",
    ")"
   ]
  },
  {
   "cell_type": "code",
   "execution_count": 7,
   "metadata": {},
   "outputs": [
    {
     "data": {
      "image/png": "[encoded data removed]",
      "text/plain": [
       "<Figure size 864x288 with 2 Axes>"
      ]
     },
     "metadata": {
      "needs_background": "light"
     },
     "output_type": "display_data"
    }
   ],
   "source": [
    "plot_results(history).show()"
   ]
  },
  {
   "cell_type": "code",
   "execution_count": 8,
   "metadata": {},
   "outputs": [],
   "source": [
    "preds = model.predict(X_test)"
   ]
  },
  {
   "cell_type": "code",
   "execution_count": 10,
   "metadata": {},
   "outputs": [
    {
     "data": {
      "image/png": "[encoded data removed]",
      "text/plain": [
       "<Figure size 720x360 with 10 Axes>"
      ]
     },
     "metadata": {},
     "output_type": "display_data"
    }
   ],
   "source": [
    "plot_random_examples(X_test, Y_test, preds.numpy()).show()"
   ]
  },
  {
   "cell_type": "code",
   "execution_count": null,
   "metadata": {},
   "outputs": [],
   "source": []
  }
 ],
 "metadata": {
  "kernelspec": {
   "display_name": "Python 3",
   "language": "python",
   "name": "python3"
  },
  "language_info": {
   "codemirror_mode": {
    "name": "ipython",
    "version": 3
   },
   "file_extension": ".py",
   "mimetype": "text/x-python",
   "name": "python",
   "nbconvert_exporter": "python",
   "pygments_lexer": "ipython3",
   "version": "3.6.8"
  }
 },
 "nbformat": 4,
 "nbformat_minor": 2
}
